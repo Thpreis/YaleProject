{
 "cells": [
  {
   "cell_type": "code",
   "execution_count": 1,
   "metadata": {
    "collapsed": true
   },
   "outputs": [],
   "source": [
    "import halotools\n",
    "import numpy as np\n",
    "import matplotlib.pyplot as plt\n",
    "from scipy.optimize import curve_fit\n",
    "%matplotlib inline\n"
   ]
  },
  {
   "cell_type": "markdown",
   "metadata": {},
   "source": [
    "1) Import data\n",
    "=="
   ]
  },
  {
   "cell_type": "code",
   "execution_count": 2,
   "metadata": {
    "collapsed": true
   },
   "outputs": [],
   "source": [
    "from halotools import sim_manager\n",
    "from halotools.sim_manager import CachedHaloCatalog\n",
    "halocat = CachedHaloCatalog(simname = 'bolplanck', halo_finder = 'rockstar', redshift = 0)"
   ]
  },
  {
   "cell_type": "markdown",
   "metadata": {},
   "source": [
    "We begin with the analysis of a subsample of the Bolshoi simulation with Planck cosmology as of 2013\n",
    "(h=0.7, $\\Omega_{\\Lambda}$=0.69289, $\\Omega_{m}$ = 0.30711, $\\Omega_b$ = 0.048, $n_s$ =  0.96, $\\sigma_8$ = 0.82).\n",
    "The simulation started at $z_{ini}$ = 80 and followed $2048^3$ particles of mass $M_{dm} = 1.55 \\times 10^8$ $M_{sun}/h$ in their evolution in a volume of boxsize L=250 Mpc/h.\n"
   ]
  },
  {
   "cell_type": "code",
   "execution_count": 3,
   "metadata": {
    "collapsed": false
   },
   "outputs": [
    {
     "name": "stdout",
     "output_type": "stream",
     "text": [
      "['halo_vmax_firstacc', 'halo_dmvir_dt_tdyn', 'halo_macc', 'halo_scale_factor', 'halo_vmax_mpeak', 'halo_m_pe_behroozi', 'halo_delta_vmax_behroozi17', 'halo_xoff', 'halo_spin', 'halo_tidal_force', 'halo_scale_factor_firstacc', 'halo_c_to_a', 'halo_mvir_firstacc', 'halo_scale_factor_last_mm', 'halo_tidal_id', 'halo_scale_factor_mpeak', 'halo_pid', 'halo_m500c', 'halo_id', 'halo_halfmass_scale_factor', 'halo_upid', 'halo_t_by_u', 'halo_rvir', 'halo_vpeak', 'halo_dmvir_dt_100myr', 'halo_mpeak', 'halo_m_pe_diemer', 'halo_jx', 'halo_jy', 'halo_jz', 'halo_m2500c', 'halo_mvir', 'halo_voff', 'halo_axisA_z', 'halo_axisA_x', 'halo_axisA_y', 'halo_y', 'halo_b_to_a', 'halo_x', 'halo_z', 'halo_m200b', 'halo_vacc', 'halo_scale_factor_lastacc', 'halo_vmax', 'halo_m200c', 'halo_vx', 'halo_vy', 'halo_vz', 'halo_dmvir_dt_inst', 'halo_tidal_force_tdyn', 'halo_rs', 'halo_nfw_conc', 'halo_hostid', 'halo_mvir_host_halo']\n"
     ]
    }
   ],
   "source": [
    "#Catalog of halos itself\n",
    "halos = halocat.halo_table\n",
    "#To see what properties are available \n",
    "print(halos.keys())"
   ]
  },
  {
   "cell_type": "markdown",
   "metadata": {},
   "source": [
    "2) Organize the data into samples\n",
    "=="
   ]
  },
  {
   "cell_type": "code",
   "execution_count": 4,
   "metadata": {
    "collapsed": true
   },
   "outputs": [],
   "source": [
    "from halotools.utils import group_member_generator\n",
    "#Group halos by halo host id\n",
    "halos.sort('halo_hostid')\n",
    "grouping_key = 'halo_hostid'\n",
    "requested_columns = []\n",
    "group_gen = group_member_generator(halos, grouping_key, requested_columns)\n",
    "\n",
    "#calculates the number of subalos per host\n",
    "nsub = np.zeros(len(halos))\n",
    "for first, last, member_props in group_gen:\n",
    "    nsub[first:last] = last - first - 1\n",
    "#Adds a new column to the ith-row of the table which gives the number of subhalos found in the i-th halo\n",
    "halos['num_subhalos'] = nsub"
   ]
  },
  {
   "cell_type": "code",
   "execution_count": 5,
   "metadata": {
    "collapsed": false
   },
   "outputs": [
    {
     "name": "stdout",
     "output_type": "stream",
     "text": [
      "Number of halos in total, unfilterd bolplank catalog 1444262\n",
      "Number of hosthalos, unfilterd bolplank catalog 1078614\n",
      "Number of subhalos, unfilterd bolplank catalog 365648\n"
     ]
    }
   ],
   "source": [
    "NumberHosthalos=0\n",
    "NumberSubhalos=0\n",
    "for i in range(0,len(halos)):\n",
    "    if halos[\"halo_pid\"][i]==-1:\n",
    "        NumberHosthalos= NumberHosthalos+1\n",
    "    else:\n",
    "        NumberSubhalos = NumberSubhalos+1\n",
    "        \n",
    "print(\"Number of halos in total, unfilterd bolplank catalog\", len(halos))\n",
    "print(\"Number of hosthalos, unfilterd bolplank catalog\", NumberHosthalos)\n",
    "print(\"Number of subhalos, unfilterd bolplank catalog\", NumberSubhalos)"
   ]
  },
  {
   "cell_type": "code",
   "execution_count": 9,
   "metadata": {
    "collapsed": true
   },
   "outputs": [],
   "source": [
    "#Attribute Subhalos with the Positions of their respective host in order to compute velocities in the respective host halo\n",
    "#center of mass frame:\n",
    "halos.add_column(halos[\"halo_x\"], name=\"Host_x\")\n",
    "halos.add_column(halos[\"halo_y\"], name=\"Host_y\")\n",
    "halos.add_column(halos[\"halo_z\"], name=\"Host_z\")\n",
    "halos.add_column(halos[\"halo_vx\"], name=\"Host_vx\")\n",
    "halos.add_column(halos[\"halo_vy\"], name=\"Host_vy\")\n",
    "halos.add_column(halos[\"halo_vz\"], name=\"Host_vz\")\n",
    "\n"
   ]
  },
  {
   "cell_type": "markdown",
   "metadata": {},
   "source": [
    "The catalog is filtered by the following criteria.\n",
    "We generate two samples :\n",
    "\n",
    "Sample 1 consists of all host halos with $M_{vir} < 10^{15} M_{sun}$ and with $M_{vir}/M_{Dm, partcl} > 100$ together with the subhalos  with $M_{vir}/M_{Dm, partcl} > 100$, $M_{vir}/M_{Vir, Host} > 10^{-3}$ and with $M_{Vir, Host} < 10^{15} M_{sun}$.\n",
    "\n",
    "Sample 2 is constrained under the same criteria as Sample 1, but one of the conditions on the subhalos, namely $M_{vir}/M_{Vir, Host} > 10^{-3}$, is removed."
   ]
  },
  {
   "cell_type": "code",
   "execution_count": 6,
   "metadata": {
    "collapsed": false
   },
   "outputs": [
    {
     "name": "stderr",
     "output_type": "stream",
     "text": [
      "C:\\Users\\ThimoPreis\\Anaconda3\\lib\\site-packages\\ipykernel\\__main__.py:12: RuntimeWarning: divide by zero encountered in true_divide\n"
     ]
    },
    {
     "name": "stdout",
     "output_type": "stream",
     "text": [
      "Number of hosthalos in Sample 1 =  1071702\n",
      "The mean concentration of host halos in sample 1 is   r$ \bar{c}$ =  16.0799\n",
      "Number of subhalos in Sample 1 =  224818\n",
      "Number of subhalos in Sample 2 =  289020\n"
     ]
    }
   ],
   "source": [
    "##We consider two main samples:\n",
    "##Sample 1: Consider all halos consisting of more than 100 dm particles and exclude hosts with less than 10^15 solar masses\n",
    "##Sample 2: Take into account all halos and still exclude hosts with less than 10^15 solar masses\n",
    "#The mask for the hosts\n",
    "M_dm_particle = 1.55e8\n",
    "host_maskSample1 = ((halos['halo_upid'] == -1) & (halos[\"halo_mvir\"]<1e15) & (halos[\"halo_mvir\"]/M_dm_particle > 100))\n",
    "hostsSample1 = halos[host_maskSample1]\n",
    "\n",
    "\n",
    "#mask for the subhalos\n",
    "\n",
    "sub_maskSample1 = ((halos[\"halo_upid\"]>0)&((halos['halo_mvir']/halos[\"halo_mvir_host_halo\"] > 1e-3))&(halos[\"halo_mvir_host_halo\"]< 1e15)& (halos[\"halo_mvir\"]/M_dm_particle > 100))\n",
    "subsSample1 = halos[sub_maskSample1]\n",
    "sub_maskSample2 = ((halos[\"halo_upid\"]>0)&(halos[\"halo_mvir_host_halo\"]< 1e15)& (halos[\"halo_mvir\"]/M_dm_particle > 100))\n",
    "subsSample2 = halos[sub_maskSample2]\n",
    "\n",
    "print(\"Number of hosthalos in Sample 1 = \", len(hostsSample1))\n",
    "print(\"The mean concentration of host halos in sample 1 is  \", \"r$ \\bar{c}$ = \", np.mean(hostsSample1['halo_nfw_conc']))\n",
    "print(\"Number of subhalos in Sample 1 = \", len(subsSample1))\n",
    "print(\"Number of subhalos in Sample 2 = \", len(subsSample2))\n",
    "\n"
   ]
  },
  {
   "cell_type": "code",
   "execution_count": null,
   "metadata": {
    "collapsed": true
   },
   "outputs": [],
   "source": []
  },
  {
   "cell_type": "markdown",
   "metadata": {},
   "source": [
    "3) Radial density profile\n",
    "======"
   ]
  },
  {
   "cell_type": "code",
   "execution_count": 7,
   "metadata": {
    "collapsed": false
   },
   "outputs": [],
   "source": [
    "from halotools.mock_observables import return_xyz_formatted_array\n",
    "\n",
    "host_pos_sample1 = return_xyz_formatted_array(hostsSample1['halo_x'], hostsSample1['halo_y'], hostsSample1['halo_z'])\n",
    "\n",
    "sub_pos_sample1 = return_xyz_formatted_array(subsSample1['halo_x'], subsSample1['halo_y'], subsSample1['halo_z'])\n",
    "sub_pos_sample2 = return_xyz_formatted_array(subsSample2['halo_x'], subsSample2['halo_y'], subsSample2['halo_z'])\n",
    "\n",
    "hx1 = hostsSample1[\"halo_x\"]\n",
    "hy1 = hostsSample1[\"halo_y\"]\n",
    "hz1 = hostsSample1[\"halo_z\"]\n",
    "sx1 = subsSample1[\"halo_x\"]\n",
    "sy1 = subsSample1[\"halo_y\"]\n",
    "sz1 = subsSample1[\"halo_z\"]\n",
    "sx2 = subsSample2[\"halo_x\"]\n",
    "sy2 = subsSample2[\"halo_y\"]\n",
    "sz2 = subsSample2[\"halo_z\"]\n",
    "\n",
    "hvx1 = hostsSample1[\"halo_vx\"]\n",
    "hvy1 = hostsSample1[\"halo_vy\"]\n",
    "hvz1 = hostsSample1[\"halo_vz\"]\n",
    "svx1 = subsSample1[\"halo_vx\"]\n",
    "svy1 = subsSample1[\"halo_vy\"]\n",
    "svz1 = subsSample1[\"halo_vz\"]\n",
    "svx2 = subsSample2[\"halo_vx\"]\n",
    "svy2 = subsSample2[\"halo_vy\"]\n",
    "svz2 = subsSample2[\"halo_vz\"]"
   ]
  },
  {
   "cell_type": "code",
   "execution_count": 9,
   "metadata": {
    "collapsed": false
   },
   "outputs": [],
   "source": [
    "from halotools.mock_observables import radial_profile_3d\n",
    "\n",
    "rbins_normalized = np.linspace(0.001, 1, 100)\n",
    "rbins_midpoints = (rbins_normalized[:-1] + rbins_normalized[1:])/2\n",
    "\n",
    "Density_profileSample1,CountsSample1 = radial_profile_3d(host_pos_sample1, sub_pos_sample1, subsSample1['halo_mvir'],\n",
    "                           rbins_normalized = rbins_normalized,\n",
    "                           normalize_rbins_by = hostsSample1['halo_rvir'],\n",
    "                           period=halocat.Lbox, return_counts = True)\n",
    "\n",
    "Density_profileSample2,CountsSample2 = radial_profile_3d(host_pos_sample1, sub_pos_sample2, subsSample2['halo_mvir'],\n",
    "                           rbins_normalized = rbins_normalized,\n",
    "                           normalize_rbins_by = hostsSample1['halo_rvir'],\n",
    "                           period=halocat.Lbox,return_counts = True)\n",
    "\n",
    "\n",
    "\n"
   ]
  },
  {
   "cell_type": "code",
   "execution_count": 10,
   "metadata": {
    "collapsed": false
   },
   "outputs": [],
   "source": [
    "shell_volumes = 4/3*np.pi*(rbins_normalized[1:]**3-rbins_normalized[:-1]**3)\n",
    "MeanNumberDensitySample1 = (CountsSample1/float(len(subsSample1)))/shell_volumes\n",
    "MeanNumberDensitySample2 = (CountsSample2/float(len(subsSample2)))/shell_volumes\n"
   ]
  },
  {
   "cell_type": "code",
   "execution_count": 19,
   "metadata": {
    "collapsed": true
   },
   "outputs": [],
   "source": [
    "#Model NFW profil of the hosts\n",
    "#from halotools import empirical_models\n",
    "#from halotools.empirical_models import NFWProfile\n",
    "\n",
    "#nfw = NFWProfile(conc_mass_model='direct_from_halo_catalog', mdef='vir',concentration_key=\"halo_nfw_conc\",redshift=0)\n",
    "#model_conc = nfw.conc_NFWmodel(table=hostsSample1)\n",
    "\n",
    "#Write NFW profile function yourself:\n",
    "from halotools.empirical_models import density_threshold\n",
    "from astropy import cosmology\n",
    "from astropy.cosmology import LambdaCDM\n",
    "cosmo = LambdaCDM(H0=70, Om0=0.3, Ode0=0.7)\n",
    "m_dm=1.55e8\n",
    "\n",
    "def NFW(r):\n",
    "    return density_threshold(cosmo,0,mdef=\"vir\")*0.3/3*np.mean(hostsSample1[\"halo_nfw_conc\"])**3 /(np.log(1+np.mean(hostsSample1[\"halo_nfw_conc\"]))+np.mean(hostsSample1[\"halo_nfw_conc\"])/(1+np.mean(hostsSample1[\"halo_nfw_conc\"])))/(r/np.mean(hostsSample1[\"halo_rs\"]))/(1+r/np.mean(hostsSample1[\"halo_rs\"]))**2\n",
    "\n",
    "\n",
    "rhocrit = cosmo.critical_density0\n",
    "#Another definition, completely equivalent to NFW, not neccessary to use it\n",
    "c=np.mean(hostsSample1[\"halo_nfw_conc\"])\n",
    "\n",
    "def nfwProfile(r):\n",
    "    return (200*rhocrit*c)/3/(np.log(1+c-c/(1+c))) /(r/np.mean(hostsSample1[\"halo_rs\"])) /(1+r/np.mean(hostsSample1[\"halo_rs\"]))**2\n",
    "\n",
    "\n",
    "\n",
    "\n",
    "#r_values_hosts=np.linspace(0.001,1,len(hostsSample1))\n",
    "#rho_nfw = nfw.dimensionless_mass_density(scaled_radius =r_values_hosts,conc = hostsSample1[\"halo_nfw_conc\"])"
   ]
  },
  {
   "cell_type": "code",
   "execution_count": 25,
   "metadata": {
    "collapsed": false
   },
   "outputs": [
    {
     "data": {
      "image/png": "[encoded data removed]",
      "text/plain": [
       "<matplotlib.figure.Figure at 0x16e44550>"
      ]
     },
     "metadata": {},
     "output_type": "display_data"
    }
   ],
   "source": [
    "plt.rc('text', usetex=True)\n",
    "plt.rc('font', family='serif')\n",
    "\n",
    "r_values =np.linspace(0.001,1,1000)\n",
    "\n",
    "# Create a new figure \n",
    "fig = plt.figure(figsize=(6,6), dpi=80)\n",
    "plot_profile = fig.add_subplot(111)\n",
    "plot_profile.set_xscale('log')\n",
    "plot_profile.set_yscale('log')\n",
    "plot_profile.grid(True)\n",
    "\n",
    "#plot_ps.set_xlim(1.0e-5, 1.0e5)\n",
    "#plot_profile.set_ylim(0.001, 1e3)\n",
    "\n",
    "plot_profile.set_xlabel(r' $ r/R_{vir} $')\n",
    "plot_profile.set_ylabel(r'Mass density profile$\\rho (r) \\;[a.U.]$')\n",
    "\n",
    "plot_profile.plot(rbins_midpoints, Density_profileSample1/shell_volumes/float(len(subsSample1)), color=\"red\", marker=\".\",label=r\"$\\rho_{Sample 1}(r)$\",alpha=0.7)\n",
    "plot_profile.plot(rbins_midpoints, Density_profileSample2/shell_volumes/float(len(subsSample2)), color=\"navy\", marker=\".\",label=r\"$\\rho_{Sample 2}(r)$\",alpha=0.7)\n",
    "#plot_profile.plot(r_values_hosts, rho_nfw, color=\"black\", marker=\".\",label=r\"$\\rho_{NFW, Host}(r)$\",alpha=0.7)\n",
    "plot_profile.plot(r_values, NFW(r_values)/4e3, color=\"black\",lw=0.5,label=r\"$\\rho_{NFW, Host}(r)$\")\n",
    "\n",
    "\n",
    "\n",
    "plot_profile.legend(prop={'size':12}, loc=\"best\")\n",
    "plt.title(\"Radial Density Profile\")\n",
    "# Save figure using 80 dots per inch\n",
    "plt.savefig(\"RadialDensityProfile.pdf\",dpi=80)\n",
    "\n"
   ]
  },
  {
   "cell_type": "code",
   "execution_count": 26,
   "metadata": {
    "collapsed": false
   },
   "outputs": [
    {
     "data": {
      "image/png": "[encoded data removed]",
      "text/plain": [
       "<matplotlib.figure.Figure at 0xa075c18>"
      ]
     },
     "metadata": {},
     "output_type": "display_data"
    }
   ],
   "source": [
    "\n",
    "# Create a new figure \n",
    "fig = plt.figure(figsize=(6,6), dpi=80)\n",
    "plot_profile = fig.add_subplot(111)\n",
    "plot_profile.set_xscale('log')\n",
    "plot_profile.set_yscale('log')\n",
    "plot_profile.grid(True)\n",
    "\n",
    "#plot_ps.set_xlim(1.0e-5, 1.0e5)\n",
    "#plot_profile.set_ylim(0.001, 1e3)\n",
    "\n",
    "plot_profile.set_xlabel(r' $ r/R_{vir} $')\n",
    "plot_profile.set_ylabel(r'Number density profile$n(r) \\;[Mpc^{-3}]$')\n",
    "\n",
    "plot_profile.plot(rbins_midpoints, MeanNumberDensitySample1, color=\"red\", marker=\".\",label=r\"$n_{Sample 1}(r)$\",alpha=0.7)\n",
    "plot_profile.plot(rbins_midpoints, MeanNumberDensitySample2, color=\"navy\", marker=\".\",label=r\"$n_{Sample 2}(r)$\",alpha=0.7)\n",
    "\n",
    "\n",
    "plot_profile.legend(prop={'size':12}, loc=\"best\")\n",
    "plt.title(\"Radial Number Density Profile\")\n",
    "# Save figure using 80 dots per inch\n",
    "plt.savefig(\"RadialNumberDensityProfile.pdf\",dpi=80)\n"
   ]
  },
  {
   "cell_type": "markdown",
   "metadata": {
    "collapsed": true
   },
   "source": [
    "4)Velocity profiles\n",
    "===="
   ]
  },
  {
   "cell_type": "code",
   "execution_count": null,
   "metadata": {
    "collapsed": true
   },
   "outputs": [],
   "source": [
    "#Replace every position and velocity of the subhalos by the position and velocity defined with respect to the rest\n",
    "#frame of their respective host halo:\n",
    "\n",
    "\n",
    "\n",
    "for i in range(0, len(hostsSample1)):\n",
    "    \n",
    "    for j in range(0, len(subsSample1)):\n",
    "        \n",
    "        if hostsSample1[\"halo_id\"][i]==subsSample1[\"halo_upid\"][j]:\n",
    "            \n",
    "            sx1[j] = sx1[j]-hx1[i]\n",
    "            sy1[j] = sy1[j]-hy1[i]\n",
    "            sz1[j] = sz1[j]-hz1[i]\n",
    "            svx1[j] = svx1[j]-hvx1[i]\n",
    "            svy1[j] = svy1[j]-hvy1[i]\n",
    "            svz1[j] = svz1[j]-hvz1[i]\n",
    "            \n",
    "        else:\n",
    "            \n",
    "            sx1[j] = 10000\n",
    "            sy1[j] = 10000\n",
    "            sz1[j] = 10000\n",
    "            svx1[j] = 10000\n",
    "            svy1[j] = 10000\n",
    "            svz1[j] = 10000\n",
    "            \n",
    "    for m in range(0, len(subsSample2)):\n",
    "        \n",
    "        if hostsSample1[\"halo_id\"][i]==subsSample2[\"halo_upid\"][m]:\n",
    "            \n",
    "            sx2[m] = sx2[m]-hx2[i]\n",
    "            sy2[m] = sy2[m]-hy2[i]\n",
    "            sz2[m] = sz2[m]-hz2[i]\n",
    "            svx2[m] = svx2[m]-hvx2[i]\n",
    "            svy2[m] = svy2[m]-hvy2[i]\n",
    "            svz2[m] = svz2[m]-hvz2[i]\n",
    "            \n",
    "        else:\n",
    "            \n",
    "            sx1[m] = 10000\n",
    "            sy1[m] = 10000\n",
    "            sz1[m] = 10000\n",
    "            svx1[m] = 10000\n",
    "            svy1[m] = 10000\n",
    "            svz1[m] = 10000\n",
    "            \n",
    "\n",
    "                \n",
    "            "
   ]
  },
  {
   "cell_type": "markdown",
   "metadata": {
    "collapsed": false
   },
   "source": [
    "\n",
    "#Put every component to zero, when subhalo does not have a corresponding host halo\n",
    "    \n",
    "\n",
    "for i in range(0,len(subsSample1)): \n",
    "    if indexReturn(subsSample1[\"halo_hostid\"][i])==\"NOTFOUND\":\n",
    "        sx1[i] = 0\n",
    "        sy1[i] = 0\n",
    "        sz1[i] = 0\n",
    "        svx1[i] = 0\n",
    "        svy1[i] = 0\n",
    "        svz1[i] = 0\n",
    "        \n",
    "    else:  \n",
    "        \n",
    "        sx1[i] = sx1[i]- hx1[indexReturn(subsSample1[\"halo_upid\"][i])]\n",
    "        sy1[i] = sy1[i]- hy1[indexReturn(subsSample1[\"halo_upid\"][i])]\n",
    "        sz1[i] = sz1[i]- hz1[indexReturn(subsSample1[\"halo_upid\"][i])]\n",
    "        svx1[i] = svx1[i]- hvx1[indexReturn(subsSample1[\"halo_upid\"][i])]\n",
    "        svy1[i] = svy1[i]- hvy1[indexReturn(subsSample1[\"halo_upid\"][i])]\n",
    "        svz1[i] = svz1[i]- hvz1[indexReturn(subsSample1[\"halo_upid\"][i])]\n",
    "        \n",
    "\n",
    "for k in range(0,len(subsSample2)):\n",
    "    \n",
    "    if indexReturn(subsSample1[\"halo_hostid\"][i])==\"NOTFOUND\":\n",
    "        sx2[k] = 0\n",
    "        sy2[k] = 0\n",
    "        sz2[k] = 0\n",
    "        svx2[k] = 0\n",
    "        svy2[k] = 0\n",
    "        svz2[k] = 0\n",
    "    else:  \n",
    "        sx2[k] = sx2[k]- hx1[indexReturn(subsSample2[\"halo_upid\"][k])]\n",
    "        sy2[k] = sy2[k]- hy1[indexReturn(subsSample2[\"halo_upid\"][k])]\n",
    "        sz2[k] = sz2[k]- hz1[indexReturn(subsSample2[\"halo_upid\"][k])]\n",
    "        svx2[k] = svx2[k]- hvx1[indexReturn(subsSample2[\"halo_upid\"][k])]\n",
    "        svy2[k] = svy2[k]- hvy1[indexReturn(subsSample2[\"halo_upid\"][k])]\n",
    "        svz2[k] = svz2[k]- hvz1[indexReturn(subsSample2[\"halo_upid\"][k])]\n",
    "\n",
    "        \n"
   ]
  },
  {
   "cell_type": "code",
   "execution_count": 12,
   "metadata": {
    "collapsed": false
   },
   "outputs": [],
   "source": [
    "#Go into spherical coordinates\n",
    "r_s1 = np.sqrt(sx1**2+sy1**2+sz1**2)\n",
    "r_s2 = np.sqrt(sx2**2+sy2**2+sz2**2)\n",
    "\n",
    "vr_s1 = (sx1*svx1+sy1*svy1+sz1*svz1)/r_s1\n",
    "vr_s2 = (sx2*svx2+sy2*svy2+sz2*svz2)/r_s2\n",
    "\n",
    "vphi_s1 = (svx1*sy1-sx1*svy1)/(sx1**2+sy1**2)\n",
    "vphi_s2 = (svx2*sy2-sx2*svy2)/(sx2**2+sy2**2)\n",
    "\n",
    "vth_s1 = (sz1*(sx1*svx1+sy1*svy1)-svz1*(sx1**2+sy1**2))/np.sqrt(sx1**2+sy1**2)/r_s1**2\n",
    "vth_s2 = (sz2*(sx2*svx2+sy2*svy2)-svz2*(sx2**2+sy2**2))/np.sqrt(sx2**2+sy2**2)/r_s2**2"
   ]
  },
  {
   "cell_type": "code",
   "execution_count": 14,
   "metadata": {
    "collapsed": false
   },
   "outputs": [],
   "source": [
    "#Average the radial velocity profiles\n",
    "\n",
    "from halotools.mock_observables import radial_profile_3d\n",
    "\n",
    "rbins_normalized = np.linspace(0.001, 1, 100)\n",
    "rbins_midpoints = (rbins_normalized[:-1] + rbins_normalized[1:])/2\n",
    "\n",
    "aver_vr_s1 = radial_profile_3d(host_pos_sample1, sub_pos_sample1, vr_s1,\n",
    "                           rbins_normalized = rbins_normalized,\n",
    "                           normalize_rbins_by = hostsSample1['halo_rvir'],\n",
    "                           period=halocat.Lbox)\n",
    "\n",
    "aver_vr_s2 = radial_profile_3d(host_pos_sample1, sub_pos_sample2, vr_s2,\n",
    "                           rbins_normalized = rbins_normalized,\n",
    "                           normalize_rbins_by = hostsSample1['halo_rvir'],\n",
    "                           period=halocat.Lbox)\n",
    "\n",
    "aver_vphi_s1 = radial_profile_3d(host_pos_sample1, sub_pos_sample1, vphi_s1,\n",
    "                           rbins_normalized = rbins_normalized,\n",
    "                           normalize_rbins_by = hostsSample1['halo_rvir'],\n",
    "                           period=halocat.Lbox)\n",
    "\n",
    "aver_vphi_s2 = radial_profile_3d(host_pos_sample1, sub_pos_sample2, vphi_s2,\n",
    "                           rbins_normalized = rbins_normalized,\n",
    "                           normalize_rbins_by = hostsSample1['halo_rvir'],\n",
    "                           period=halocat.Lbox)\n",
    "\n",
    "\n",
    "aver_vth_s1 = radial_profile_3d(host_pos_sample1, sub_pos_sample1, vth_s1,\n",
    "                           rbins_normalized = rbins_normalized,\n",
    "                           normalize_rbins_by = hostsSample1['halo_rvir'],\n",
    "                           period=halocat.Lbox)\n",
    "\n",
    "aver_vth_s2 = radial_profile_3d(host_pos_sample1, sub_pos_sample2, vth_s2,\n",
    "                           rbins_normalized = rbins_normalized,\n",
    "                           normalize_rbins_by = hostsSample1['halo_rvir'],\n",
    "                           period=halocat.Lbox)\n",
    "\n",
    "\n"
   ]
  },
  {
   "cell_type": "code",
   "execution_count": 24,
   "metadata": {
    "collapsed": false
   },
   "outputs": [
    {
     "data": {
      "text/plain": [
       "0.0"
      ]
     },
     "execution_count": 24,
     "metadata": {},
     "output_type": "execute_result"
    }
   ],
   "source": [
    "#Normalize by virial velocity\n",
    "np.max(sx2)\n"
   ]
  },
  {
   "cell_type": "code",
   "execution_count": 16,
   "metadata": {
    "collapsed": false
   },
   "outputs": [
    {
     "ename": "ValueError",
     "evalue": "Data has no positive values, and therefore can not be log-scaled.",
     "output_type": "error",
     "traceback": [
      "\u001b[0;31m---------------------------------------------------------------------------\u001b[0m",
      "\u001b[0;31mValueError\u001b[0m                                Traceback (most recent call last)",
      "\u001b[0;32m<ipython-input-16-e09fe14ad7b0>\u001b[0m in \u001b[0;36m<module>\u001b[0;34m()\u001b[0m\n\u001b[1;32m     12\u001b[0m \u001b[0mplot_profile\u001b[0m\u001b[1;33m.\u001b[0m\u001b[0mset_ylabel\u001b[0m\u001b[1;33m(\u001b[0m\u001b[1;34mr'$<v(r)>/V_{vir}$'\u001b[0m\u001b[1;33m)\u001b[0m\u001b[1;33m\u001b[0m\u001b[0m\n\u001b[1;32m     13\u001b[0m \u001b[1;33m\u001b[0m\u001b[0m\n\u001b[0;32m---> 14\u001b[0;31m \u001b[0mplot_profile\u001b[0m\u001b[1;33m.\u001b[0m\u001b[0mplot\u001b[0m\u001b[1;33m(\u001b[0m\u001b[0mrbins_midpoints\u001b[0m\u001b[1;33m,\u001b[0m \u001b[0maver_vr_s1\u001b[0m\u001b[1;33m,\u001b[0m \u001b[0mcolor\u001b[0m\u001b[1;33m=\u001b[0m\u001b[1;34m\"red\"\u001b[0m\u001b[1;33m,\u001b[0m \u001b[0mmarker\u001b[0m\u001b[1;33m=\u001b[0m\u001b[1;34m\".\"\u001b[0m\u001b[1;33m,\u001b[0m\u001b[0mlabel\u001b[0m\u001b[1;33m=\u001b[0m\u001b[1;34mr\"$v_{r, Sample 1} (r)$\"\u001b[0m\u001b[1;33m,\u001b[0m\u001b[0malpha\u001b[0m\u001b[1;33m=\u001b[0m\u001b[1;36m0.7\u001b[0m\u001b[1;33m)\u001b[0m\u001b[1;33m\u001b[0m\u001b[0m\n\u001b[0m\u001b[1;32m     15\u001b[0m \u001b[0mplot_profile\u001b[0m\u001b[1;33m.\u001b[0m\u001b[0mplot\u001b[0m\u001b[1;33m(\u001b[0m\u001b[0mrbins_midpoints\u001b[0m\u001b[1;33m,\u001b[0m \u001b[0maver_vphi_s1\u001b[0m\u001b[1;33m,\u001b[0m \u001b[0mcolor\u001b[0m\u001b[1;33m=\u001b[0m\u001b[1;34m\"navy\"\u001b[0m\u001b[1;33m,\u001b[0m \u001b[0mmarker\u001b[0m\u001b[1;33m=\u001b[0m\u001b[1;34m\".\"\u001b[0m\u001b[1;33m,\u001b[0m\u001b[0mlabel\u001b[0m\u001b[1;33m=\u001b[0m\u001b[1;34mr\"$v_{\\phi, Sample 1}(r)$\"\u001b[0m\u001b[1;33m,\u001b[0m\u001b[0malpha\u001b[0m\u001b[1;33m=\u001b[0m\u001b[1;36m0.7\u001b[0m\u001b[1;33m)\u001b[0m\u001b[1;33m\u001b[0m\u001b[0m\n\u001b[1;32m     16\u001b[0m \u001b[1;31m#plot_profile.plot(r_values_hosts, rho_nfw, color=\"black\", marker=\".\",label=r\"$\\rho_{NFW, Host}(r)$\",alpha=0.7)\u001b[0m\u001b[1;33m\u001b[0m\u001b[1;33m\u001b[0m\u001b[0m\n",
      "\u001b[0;32mC:\\Users\\ThimoPreis\\Anaconda3\\lib\\site-packages\\matplotlib\\__init__.py\u001b[0m in \u001b[0;36minner\u001b[0;34m(ax, *args, **kwargs)\u001b[0m\n\u001b[1;32m   1816\u001b[0m                     warnings.warn(msg % (label_namer, func.__name__),\n\u001b[1;32m   1817\u001b[0m                                   RuntimeWarning, stacklevel=2)\n\u001b[0;32m-> 1818\u001b[0;31m             \u001b[1;32mreturn\u001b[0m \u001b[0mfunc\u001b[0m\u001b[1;33m(\u001b[0m\u001b[0max\u001b[0m\u001b[1;33m,\u001b[0m \u001b[1;33m*\u001b[0m\u001b[0margs\u001b[0m\u001b[1;33m,\u001b[0m \u001b[1;33m**\u001b[0m\u001b[0mkwargs\u001b[0m\u001b[1;33m)\u001b[0m\u001b[1;33m\u001b[0m\u001b[0m\n\u001b[0m\u001b[1;32m   1819\u001b[0m         \u001b[0mpre_doc\u001b[0m \u001b[1;33m=\u001b[0m \u001b[0minner\u001b[0m\u001b[1;33m.\u001b[0m\u001b[0m__doc__\u001b[0m\u001b[1;33m\u001b[0m\u001b[0m\n\u001b[1;32m   1820\u001b[0m         \u001b[1;32mif\u001b[0m \u001b[0mpre_doc\u001b[0m \u001b[1;32mis\u001b[0m \u001b[1;32mNone\u001b[0m\u001b[1;33m:\u001b[0m\u001b[1;33m\u001b[0m\u001b[0m\n",
      "\u001b[0;32mC:\\Users\\ThimoPreis\\Anaconda3\\lib\\site-packages\\matplotlib\\axes\\_axes.py\u001b[0m in \u001b[0;36mplot\u001b[0;34m(self, *args, **kwargs)\u001b[0m\n\u001b[1;32m   1384\u001b[0m             \u001b[0mlines\u001b[0m\u001b[1;33m.\u001b[0m\u001b[0mappend\u001b[0m\u001b[1;33m(\u001b[0m\u001b[0mline\u001b[0m\u001b[1;33m)\u001b[0m\u001b[1;33m\u001b[0m\u001b[0m\n\u001b[1;32m   1385\u001b[0m \u001b[1;33m\u001b[0m\u001b[0m\n\u001b[0;32m-> 1386\u001b[0;31m         \u001b[0mself\u001b[0m\u001b[1;33m.\u001b[0m\u001b[0mautoscale_view\u001b[0m\u001b[1;33m(\u001b[0m\u001b[0mscalex\u001b[0m\u001b[1;33m=\u001b[0m\u001b[0mscalex\u001b[0m\u001b[1;33m,\u001b[0m \u001b[0mscaley\u001b[0m\u001b[1;33m=\u001b[0m\u001b[0mscaley\u001b[0m\u001b[1;33m)\u001b[0m\u001b[1;33m\u001b[0m\u001b[0m\n\u001b[0m\u001b[1;32m   1387\u001b[0m         \u001b[1;32mreturn\u001b[0m \u001b[0mlines\u001b[0m\u001b[1;33m\u001b[0m\u001b[0m\n\u001b[1;32m   1388\u001b[0m \u001b[1;33m\u001b[0m\u001b[0m\n",
      "\u001b[0;32mC:\\Users\\ThimoPreis\\Anaconda3\\lib\\site-packages\\matplotlib\\axes\\_base.py\u001b[0m in \u001b[0;36mautoscale_view\u001b[0;34m(self, tight, scalex, scaley)\u001b[0m\n\u001b[1;32m   2166\u001b[0m                 \u001b[0mx1\u001b[0m \u001b[1;33m+=\u001b[0m \u001b[0mdelta\u001b[0m\u001b[1;33m\u001b[0m\u001b[0m\n\u001b[1;32m   2167\u001b[0m             \u001b[1;32mif\u001b[0m \u001b[1;32mnot\u001b[0m \u001b[0m_tight\u001b[0m\u001b[1;33m:\u001b[0m\u001b[1;33m\u001b[0m\u001b[0m\n\u001b[0;32m-> 2168\u001b[0;31m                 \u001b[0mx0\u001b[0m\u001b[1;33m,\u001b[0m \u001b[0mx1\u001b[0m \u001b[1;33m=\u001b[0m \u001b[0mxlocator\u001b[0m\u001b[1;33m.\u001b[0m\u001b[0mview_limits\u001b[0m\u001b[1;33m(\u001b[0m\u001b[0mx0\u001b[0m\u001b[1;33m,\u001b[0m \u001b[0mx1\u001b[0m\u001b[1;33m)\u001b[0m\u001b[1;33m\u001b[0m\u001b[0m\n\u001b[0m\u001b[1;32m   2169\u001b[0m             \u001b[0mself\u001b[0m\u001b[1;33m.\u001b[0m\u001b[0mset_xbound\u001b[0m\u001b[1;33m(\u001b[0m\u001b[0mx0\u001b[0m\u001b[1;33m,\u001b[0m \u001b[0mx1\u001b[0m\u001b[1;33m)\u001b[0m\u001b[1;33m\u001b[0m\u001b[0m\n\u001b[1;32m   2170\u001b[0m \u001b[1;33m\u001b[0m\u001b[0m\n",
      "\u001b[0;32mC:\\Users\\ThimoPreis\\Anaconda3\\lib\\site-packages\\matplotlib\\ticker.py\u001b[0m in \u001b[0;36mview_limits\u001b[0;34m(self, vmin, vmax)\u001b[0m\n\u001b[1;32m   1615\u001b[0m         \u001b[1;32mif\u001b[0m \u001b[0mminpos\u001b[0m \u001b[1;33m<=\u001b[0m \u001b[1;36m0\u001b[0m \u001b[1;32mor\u001b[0m \u001b[1;32mnot\u001b[0m \u001b[0mnp\u001b[0m\u001b[1;33m.\u001b[0m\u001b[0misfinite\u001b[0m\u001b[1;33m(\u001b[0m\u001b[0mminpos\u001b[0m\u001b[1;33m)\u001b[0m\u001b[1;33m:\u001b[0m\u001b[1;33m\u001b[0m\u001b[0m\n\u001b[1;32m   1616\u001b[0m             raise ValueError(\n\u001b[0;32m-> 1617\u001b[0;31m                 \u001b[1;34m\"Data has no positive values, and therefore can not be \"\u001b[0m\u001b[1;33m\u001b[0m\u001b[0m\n\u001b[0m\u001b[1;32m   1618\u001b[0m                 \"log-scaled.\")\n\u001b[1;32m   1619\u001b[0m \u001b[1;33m\u001b[0m\u001b[0m\n",
      "\u001b[0;31mValueError\u001b[0m: Data has no positive values, and therefore can not be log-scaled."
     ]
    },
    {
     "data": {
      "image/png": "[encoded data removed]",
      "text/plain": [
       "<matplotlib.figure.Figure at 0x136e8208>"
      ]
     },
     "metadata": {},
     "output_type": "display_data"
    }
   ],
   "source": [
    "# Create a new figure \n",
    "fig = plt.figure(figsize=(6,6), dpi=80)\n",
    "plot_profile = fig.add_subplot(111)\n",
    "plot_profile.set_xscale('log')\n",
    "#plot_profile.set_yscale('log')\n",
    "plot_profile.grid(True)\n",
    "\n",
    "#plot_ps.set_xlim(1.0e-5, 1.0e5)\n",
    "#plot_profile.set_ylim(0.001, 1e3)\n",
    "\n",
    "plot_profile.set_xlabel(r' $ r/R_{vir} $')\n",
    "plot_profile.set_ylabel(r'$<v(r)>/V_{vir}$')\n",
    "\n",
    "plot_profile.plot(rbins_midpoints, aver_vr_s1, color=\"red\", marker=\".\",label=r\"$v_{r, Sample 1} (r)$\",alpha=0.7)\n",
    "plot_profile.plot(rbins_midpoints, aver_vphi_s1, color=\"navy\", marker=\".\",label=r\"$v_{\\phi, Sample 1}(r)$\",alpha=0.7)\n",
    "#plot_profile.plot(r_values_hosts, rho_nfw, color=\"black\", marker=\".\",label=r\"$\\rho_{NFW, Host}(r)$\",alpha=0.7)\n",
    "plot_profile.plot(rbins_midpoints, aver_vth_s1, color=\"black\",lw=0.5,label=r\"$\\v_{\\theta, Sample 1}(r)$\")\n",
    "\n",
    "\n",
    "\n",
    "plot_profile.legend(prop={'size':12}, loc=\"best\")\n",
    "plt.title(\"Radial Average Velocity Profile Sample 1\")\n",
    "# Save figure using 80 dots per inch\n",
    "plt.savefig(\"AverageRadialVelocityProfilesSample1.pdf\",dpi=80)\n"
   ]
  },
  {
   "cell_type": "code",
   "execution_count": null,
   "metadata": {
    "collapsed": true
   },
   "outputs": [],
   "source": [
    "# Create a new figure \n",
    "fig = plt.figure(figsize=(6,6), dpi=80)\n",
    "plot_profile = fig.add_subplot(111)\n",
    "plot_profile.set_xscale('log')\n",
    "plot_profile.set_yscale('log')\n",
    "plot_profile.grid(True)\n",
    "\n",
    "#plot_ps.set_xlim(1.0e-5, 1.0e5)\n",
    "#plot_profile.set_ylim(0.001, 1e3)\n",
    "\n",
    "plot_profile.set_xlabel(r' $ r/R_{vir} $')\n",
    "plot_profile.set_ylabel(r'$<v(r)>/V_{vir}$')\n",
    "\n",
    "plot_profile.plot(rbins_midpoints, aver_vr_s1, color=\"red\", marker=\".\",label=r\"$v_{r, Sample 1} (r)$\",alpha=0.7)\n",
    "plot_profile.plot(rbins_midpoints, aver_vphi_s1, color=\"navy\", marker=\".\",label=r\"$v_{\\phi, Sample 1}(r)$\",alpha=0.7)\n",
    "#plot_profile.plot(r_values_hosts, rho_nfw, color=\"black\", marker=\".\",label=r\"$\\rho_{NFW, Host}(r)$\",alpha=0.7)\n",
    "plot_profile.plot(rbins_midpoints, aver_vth_s1, color=\"black\",lw=0.5,label=r\"$\\v_{\\theta, Sample 1}(r)$\")\n",
    "\n",
    "\n",
    "\n",
    "plot_profile.legend(prop={'size':12}, loc=\"best\")\n",
    "plt.title(\"Radial Average Velocity Profile Sample 2\")\n",
    "# Save figure using 80 dots per inch\n",
    "plt.savefig(\"AverageRadialVelocityProfilesSample2.pdf\",dpi=80)\n"
   ]
  },
  {
   "cell_type": "code",
   "execution_count": null,
   "metadata": {
    "collapsed": true
   },
   "outputs": [],
   "source": [
    "# Create a new figure \n",
    "fig = plt.figure(figsize=(6,6), dpi=80)\n",
    "plot_profile = fig.add_subplot(111)\n",
    "plot_profile.set_xscale('log')\n",
    "#plot_profile.set_yscale('log')\n",
    "plot_profile.grid(True)\n",
    "\n",
    "#plot_ps.set_xlim(1.0e-5, 1.0e5)\n",
    "#plot_profile.set_ylim(0.001, 1e3)\n",
    "\n",
    "plot_profile.set_xlabel(r' $ r/R_{vir} $')\n",
    "plot_profile.set_ylabel(r'$<v(r)>/V_{vir}$')\n",
    "\n",
    "plot_profile.plot(rbins_midpoints, aver_vr_s1, color=\"red\", marker=\".\",label=r\"$v_{r, Sample 1} (r)$\",alpha=0.7)\n",
    "plot_profile.plot(rbins_midpoints, aver_vphi_s1, color=\"navy\", marker=\".\",label=r\"$v_{\\phi, Sample 1}(r)$\",alpha=0.7)\n",
    "#plot_profile.plot(r_values_hosts, rho_nfw, color=\"black\", marker=\".\",label=r\"$\\rho_{NFW, Host}(r)$\",alpha=0.7)\n",
    "plot_profile.plot(rbins_midpoints, aver_vth_s1, color=\"black\",lw=0.5,label=r\"$\\v_{\\theta, Sample 1}(r)$\")\n",
    "\n",
    "\n",
    "\n",
    "plot_profile.legend(prop={'size':12}, loc=\"best\")\n",
    "plt.title(\"Radial Average Velocity Profile Sample 1\")\n",
    "# Save figure using 80 dots per inch\n",
    "plt.savefig(\"AverageRadialVelocityProfilesSample1.pdf\",dpi=80)\n"
   ]
  },
  {
   "cell_type": "code",
   "execution_count": 52,
   "metadata": {
    "collapsed": false
   },
   "outputs": [
    {
     "name": "stdout",
     "output_type": "stream",
     "text": [
      "2821926828\n",
      "1071307\n",
      "243.125\n",
      "243.142\n",
      "0.0174408\n"
     ]
    }
   ],
   "source": [
    "# Create a new figure \n",
    "fig = plt.figure(figsize=(6,6), dpi=80)\n",
    "plot_profile = fig.add_subplot(111)\n",
    "plot_profile.set_xscale('log')\n",
    "#plot_profile.set_yscale('log')\n",
    "plot_profile.grid(True)\n",
    "\n",
    "#plot_ps.set_xlim(1.0e-5, 1.0e5)\n",
    "#plot_profile.set_ylim(0.001, 1e3)\n",
    "\n",
    "plot_profile.set_xlabel(r' $ r/R_{vir} $')\n",
    "plot_profile.set_ylabel(r'$v(r)$')\n",
    "\n",
    "plot_profile.plot(r_s1, vr_s1, color=\"red\", marker=\".\",label=r\"$v_{r, Sample 1} (r)$\",alpha=0.7)\n",
    "plot_profile.plot(r_s1, vphi_s1, color=\"navy\", marker=\".\",label=r\"$v_{\\phi, Sample 1}(r)$\",alpha=0.7)\n",
    "#plot_profile.plot(r_values_hosts, rho_nfw, color=\"black\", marker=\".\",label=r\"$\\rho_{NFW, Host}(r)$\",alpha=0.7)\n",
    "plot_profile.plot(r_s1, vth_s1, color=\"black\",lw=0.5,label=r\"$\\v_{\\theta, Sample 1}(r)$\")\n",
    "\n",
    "\n",
    "\n",
    "plot_profile.legend(prop={'size':12}, loc=\"best\")\n",
    "plt.title(\"Radial Velocity Profile Sample 1\")\n",
    "# Save figure using 80 dots per inch\n",
    "plt.savefig(\"RadialVelocityProfilesSample1.pdf\",dpi=80)\n"
   ]
  },
  {
   "cell_type": "code",
   "execution_count": null,
   "metadata": {
    "collapsed": true
   },
   "outputs": [],
   "source": [
    "# Create a new figure \n",
    "fig = plt.figure(figsize=(6,6), dpi=80)\n",
    "plot_profile = fig.add_subplot(111)\n",
    "plot_profile.set_xscale('log')\n",
    "#plot_profile.set_yscale('log')\n",
    "plot_profile.grid(True)\n",
    "\n",
    "#plot_ps.set_xlim(1.0e-5, 1.0e5)\n",
    "#plot_profile.set_ylim(0.001, 1e3)\n",
    "\n",
    "plot_profile.set_xlabel(r' $ r/R_{vir} $')\n",
    "plot_profile.set_ylabel(r'$v(r)$')\n",
    "\n",
    "plot_profile.plot(r_s2, vr_s2, color=\"red\", marker=\".\",label=r\"$v_{r, Sample 2} (r)$\",alpha=0.7)\n",
    "plot_profile.plot(r_s2, vphi_s2, color=\"navy\", marker=\".\",label=r\"$v_{\\phi, Sample 2}(r)$\",alpha=0.7)\n",
    "plot_profile.plot(r_s2, vth_s2, color=\"black\",lw=0.5,label=r\"$\\v_{\\theta, Sample 2}(r)$\")\n",
    "\n",
    "\n",
    "\n",
    "plot_profile.legend(prop={'size':12}, loc=\"best\")\n",
    "plt.title(\"Radial Velocity Profile Sample 2\")\n",
    "# Save figure using 80 dots per inch\n",
    "plt.savefig(\"RadialVelocityProfilesSample2.pdf\",dpi=80)\n"
   ]
  },
  {
   "cell_type": "code",
   "execution_count": null,
   "metadata": {
    "collapsed": true
   },
   "outputs": [],
   "source": []
  },
  {
   "cell_type": "code",
   "execution_count": null,
   "metadata": {
    "collapsed": true
   },
   "outputs": [],
   "source": []
  },
  {
   "cell_type": "code",
   "execution_count": null,
   "metadata": {
    "collapsed": true
   },
   "outputs": [],
   "source": []
  },
  {
   "cell_type": "code",
   "execution_count": null,
   "metadata": {
    "collapsed": true
   },
   "outputs": [],
   "source": []
  },
  {
   "cell_type": "code",
   "execution_count": null,
   "metadata": {
    "collapsed": true
   },
   "outputs": [],
   "source": []
  }
 ],
 "metadata": {
  "anaconda-cloud": {},
  "kernelspec": {
   "display_name": "Python [default]",
   "language": "python",
   "name": "python3"
  },
  "language_info": {
   "codemirror_mode": {
    "name": "ipython",
    "version": 3
   },
   "file_extension": ".py",
   "mimetype": "text/x-python",
   "name": "python",
   "nbconvert_exporter": "python",
   "pygments_lexer": "ipython3",
   "version": "3.5.2"
  }
 },
 "nbformat": 4,
 "nbformat_minor": 1
}
